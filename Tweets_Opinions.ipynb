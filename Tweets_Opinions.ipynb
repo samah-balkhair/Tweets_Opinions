{
 "cells": [
  {
   "cell_type": "markdown",
   "metadata": {},
   "source": [
    "# Introduction"
   ]
  },
  {
   "cell_type": "markdown",
   "metadata": {},
   "source": [
    "From the file import_tweets_hashtag.py I imported 34339 tweets that contains any of these words Russia, Ukraine, or #UkraineRussiaWar."
   ]
  },
  {
   "cell_type": "markdown",
   "metadata": {},
   "source": [
    "### Import necessary libraries "
   ]
  },
  {
   "cell_type": "code",
   "execution_count": 1,
   "metadata": {},
   "outputs": [],
   "source": [
    "import pandas as pd\n",
    "import datetime \n",
    "import seaborn as sns\n",
    "import matplotlib.pyplot as plt\n",
    "import os\n",
    "import nltk\n",
    "import nltk.corpus\n",
    "from nltk.tokenize import word_tokenize\n",
    "from nltk.util import bigrams, trigrams, ngrams"
   ]
  },
  {
   "cell_type": "markdown",
   "metadata": {},
   "source": [
    "### Transfer the Imported Data to a Dataframe\n",
    "After importing the tweets using the Twitter API in the import_tweets_hashtag.py file, we will read it using a dataframe, and check the shape and the missing data on the raw data"
   ]
  },
  {
   "cell_type": "code",
   "execution_count": 2,
   "metadata": {},
   "outputs": [
    {
     "data": {
      "text/plain": [
       "(16000, 17)"
      ]
     },
     "execution_count": 2,
     "metadata": {},
     "output_type": "execute_result"
    }
   ],
   "source": [
    "raw_df = pd.read_csv('raw_data.csv')\n",
    "#raw_df.sample(10)\n",
    "raw_df.shape"
   ]
  },
  {
   "cell_type": "code",
   "execution_count": 3,
   "metadata": {},
   "outputs": [
    {
     "data": {
      "text/plain": [
       "<AxesSubplot:>"
      ]
     },
     "execution_count": 3,
     "metadata": {},
     "output_type": "execute_result"
    },
    {
     "data": {
      "image/png": "[encoded data removed]",
      "text/plain": [
       "<Figure size 432x288 with 1 Axes>"
      ]
     },
     "metadata": {
      "needs_background": "light"
     },
     "output_type": "display_data"
    }
   ],
   "source": [
    "sns.heatmap(raw_df.isnull(), cbar=False)"
   ]
  },
  {
   "cell_type": "markdown",
   "metadata": {},
   "source": [
    "#### Choose the feature "
   ]
  },
  {
   "cell_type": "markdown",
   "metadata": {},
   "source": [
    "## Data Dictionary \n",
    "\n",
    "| Syntax                | Description |\n",
    "| -----------           | ----------- |\n",
    "|- tweetID :            | The unique identifier for Tweet. The dataset contain 34339 uniq tweets | \n",
    "|- tweetText :          | The actual text of the tweet |\n",
    "|- tweetRetweetCt :     | Number of times this Tweet has been retweeted|\n",
    "|- tweetFavoriteCt:     | Indicates approximately how many times this Tweet has been liked by Twitter users |\n",
    "|- tweetCreated:        | UTC time when this Tweet was created  |\n",
    "|- userID:              | The user ID who posted this Tweet |\n",
    "|- userName:            | The user Name who posted this Tweet |\n",
    "|- userLocation:        | The location of the user  |\n",
    "|- Tweetcountry:        | The location of the user  |"
   ]
  },
  {
   "cell_type": "code",
   "execution_count": 5,
   "metadata": {},
   "outputs": [
    {
     "data": {
      "text/plain": [
       "(16000, 11)"
      ]
     },
     "execution_count": 5,
     "metadata": {},
     "output_type": "execute_result"
    }
   ],
   "source": [
    "tweet_df = raw_df[['tweetID','tweetText','retweeted', 'tweetRetweetCt','tweetFavoriteCt','tweetdate','userID','userName','userLocation','TweetPlace','Tweetcountry']]\n",
    "tweet_df.shape"
   ]
  },
  {
   "cell_type": "markdown",
   "metadata": {},
   "source": [
    "#### Change the tweetdate to datetime format  "
   ]
  },
  {
   "cell_type": "code",
   "execution_count": 7,
   "metadata": {},
   "outputs": [
    {
     "data": {
      "text/plain": [
       "2022-02-28    16000\n",
       "Name: date, dtype: int64"
      ]
     },
     "execution_count": 7,
     "metadata": {},
     "output_type": "execute_result"
    }
   ],
   "source": [
    "#tweet_df['tweetdate'] = pd.to_datetime(tweet_df['tweetdate'])\n",
    "#tweet_df['date'] = tweet_df['tweetdate'].dt.date\n",
    "tweet_df.date.value_counts()"
   ]
  },
  {
   "cell_type": "markdown",
   "metadata": {},
   "source": [
    "#### Fill the missing of user location with tweet country"
   ]
  },
  {
   "cell_type": "code",
   "execution_count": 8,
   "metadata": {},
   "outputs": [
    {
     "data": {
      "text/plain": [
       "6081"
      ]
     },
     "execution_count": 8,
     "metadata": {},
     "output_type": "execute_result"
    }
   ],
   "source": [
    "len(tweet_df[tweet_df.userLocation.isnull()])"
   ]
  },
  {
   "cell_type": "markdown",
   "metadata": {},
   "source": [
    "#### Delete the duplicate tweets"
   ]
  },
  {
   "cell_type": "code",
   "execution_count": 9,
   "metadata": {},
   "outputs": [
    {
     "data": {
      "text/plain": [
       "@Steam @Steam\\n\\n BLOCK Russia #StopWarInUkraine #StopRussia                                                                                      6\n",
       "@nytimes Still very far from making a scratch on Putin. He continues to bomb Ukraine.\\n#Embargo on Russian Oil and Gas                            5\n",
       "@NATO close the sky over #Ukraine!\\n#StopRussianAggression #StopWarInUkraine #StopRussia #StopPutin                                               4\n",
       "@BostonDynamics @SamuelAdamsBeer STOP RUSSIAN AGGRESSION AGAINST #UKRAINE. Ukraine need your help 🙏\\n#StandWithUkriane #StopRussianAgression      3\n",
       "@Ukraine Every Entertainment Platform should be banned for russia                                                                                 3\n",
       "                                                                                                                                                 ..\n",
       "@nypost And this is how you know that billionaire investor Bill Ackman is laundering money through Ukraine.                                       1\n",
       "@peterwalker99 @heawood He refers to Ukrainians as ‘brothers and sisters’ of the Russian people and not ‘the Ukrain… https://t.co/TGJeswUhHU      1\n",
       "#Russia's only economic influence is through oil/gas: it is basically a big gas station that is threatening the wor… https://t.co/qs4jFjyqUJ      1\n",
       "Putin has no idea what he has unleashed.\\nMany of his soldiers are demoralized from being deceived into thinking the… https://t.co/P0YbPYViNU     1\n",
       "Recent polls indicate only 1/3 of the REPUBLICAN party would want to vote for Trump in 2024. \\n\\nThat's the vocal min… https://t.co/3PmL6fMVw9    1\n",
       "Name: tweetText, Length: 15964, dtype: int64"
      ]
     },
     "execution_count": 9,
     "metadata": {},
     "output_type": "execute_result"
    }
   ],
   "source": [
    "tweet_df.tweetText.value_counts()"
   ]
  },
  {
   "cell_type": "code",
   "execution_count": 10,
   "metadata": {},
   "outputs": [
    {
     "name": "stderr",
     "output_type": "stream",
     "text": [
      "/tmp/ipykernel_21358/3049151882.py:1: SettingWithCopyWarning: \n",
      "A value is trying to be set on a copy of a slice from a DataFrame.\n",
      "Try using .loc[row_indexer,col_indexer] = value instead\n",
      "\n",
      "See the caveats in the documentation: https://pandas.pydata.org/pandas-docs/stable/user_guide/indexing.html#returning-a-view-versus-a-copy\n",
      "  tweet_df['duplicattweet'] = tweet_df.duplicated(subset=['tweetText'], keep='first')\n"
     ]
    }
   ],
   "source": [
    "tweet_df['duplicattweet'] = tweet_df.duplicated(subset=['tweetText'], keep='first')"
   ]
  },
  {
   "cell_type": "code",
   "execution_count": 11,
   "metadata": {},
   "outputs": [
    {
     "data": {
      "text/plain": [
       "False    15964\n",
       "True        36\n",
       "Name: duplicattweet, dtype: int64"
      ]
     },
     "execution_count": 11,
     "metadata": {},
     "output_type": "execute_result"
    }
   ],
   "source": [
    "tweet_df.duplicattweet.value_counts()"
   ]
  },
  {
   "cell_type": "code",
   "execution_count": 12,
   "metadata": {},
   "outputs": [
    {
     "name": "stderr",
     "output_type": "stream",
     "text": [
      "/opt/conda/lib/python3.9/site-packages/pandas/core/frame.py:4906: SettingWithCopyWarning: \n",
      "A value is trying to be set on a copy of a slice from a DataFrame\n",
      "\n",
      "See the caveats in the documentation: https://pandas.pydata.org/pandas-docs/stable/user_guide/indexing.html#returning-a-view-versus-a-copy\n",
      "  return super().drop(\n"
     ]
    },
    {
     "data": {
      "text/plain": [
       "False    15964\n",
       "Name: duplicattweet, dtype: int64"
      ]
     },
     "execution_count": 12,
     "metadata": {},
     "output_type": "execute_result"
    }
   ],
   "source": [
    "tweet_df.drop(tweet_df[tweet_df.duplicattweet == True].index, inplace=True)\n",
    "tweet_df.duplicattweet.value_counts()"
   ]
  },
  {
   "cell_type": "markdown",
   "metadata": {},
   "source": [
    "---------------------------------------------------------------------------------------------------"
   ]
  },
  {
   "cell_type": "markdown",
   "metadata": {},
   "source": [
    "# Under Development  "
   ]
  },
  {
   "cell_type": "markdown",
   "metadata": {},
   "source": []
  },
  {
   "cell_type": "code",
   "execution_count": null,
   "metadata": {},
   "outputs": [],
   "source": [
    "len(tweet_df[tweet_df.userLocation.isnull() & (tweet_df.countrycode.notnull())]) "
   ]
  },
  {
   "cell_type": "code",
   "execution_count": null,
   "metadata": {},
   "outputs": [],
   "source": [
    "tweet_df[(tweet_df.userLocation.isnull() & (tweet_df.countrycode.notnull()))]"
   ]
  },
  {
   "cell_type": "code",
   "execution_count": null,
   "metadata": {},
   "outputs": [],
   "source": [
    "tweet_df.info()"
   ]
  },
  {
   "cell_type": "code",
   "execution_count": null,
   "metadata": {},
   "outputs": [],
   "source": [
    "sns.set_theme(style=\"ticks\")\n",
    "fig_dims = (8, 6)\n",
    "fig, ax = plt.subplots(figsize=fig_dims)\n",
    "sns.histplot(\n",
    "    tweet_df,\n",
    "    x=\"TweetPlace\",hue=\"TweetPlace\", \n",
    "    multiple=\"stack\",\n",
    "    ax=ax,\n",
    ")\n",
    "plt.xticks(rotation=45)\n",
    "plt.show()"
   ]
  },
  {
   "cell_type": "code",
   "execution_count": null,
   "metadata": {},
   "outputs": [],
   "source": [
    "raw_df.tweetdate.value_counts()"
   ]
  },
  {
   "cell_type": "code",
   "execution_count": null,
   "metadata": {},
   "outputs": [],
   "source": [
    "tweet_df.sample(100)"
   ]
  },
  {
   "cell_type": "code",
   "execution_count": null,
   "metadata": {},
   "outputs": [],
   "source": [
    "tweet_df.userLocation.value_counts()"
   ]
  },
  {
   "cell_type": "code",
   "execution_count": null,
   "metadata": {},
   "outputs": [],
   "source": [
    "tweet_df.retweeted.value_counts()"
   ]
  },
  {
   "cell_type": "code",
   "execution_count": null,
   "metadata": {},
   "outputs": [],
   "source": [
    "tweet_df.tweetText.value_counts()"
   ]
  },
  {
   "cell_type": "code",
   "execution_count": null,
   "metadata": {},
   "outputs": [],
   "source": [
    "tweet_df.date.value_counts()"
   ]
  },
  {
   "cell_type": "code",
   "execution_count": null,
   "metadata": {},
   "outputs": [],
   "source": [
    "tweet_df.tweetID.value_counts()"
   ]
  }
 ],
 "metadata": {
  "interpreter": {
   "hash": "d4d1e4263499bec80672ea0156c357c1ee493ec2b1c70f0acce89fc37c4a6abe"
  },
  "kernelspec": {
   "display_name": "Python 3.9.7 ('base')",
   "language": "python",
   "name": "python3"
  },
  "language_info": {
   "codemirror_mode": {
    "name": "ipython",
    "version": 3
   },
   "file_extension": ".py",
   "mimetype": "text/x-python",
   "name": "python",
   "nbconvert_exporter": "python",
   "pygments_lexer": "ipython3",
   "version": "3.9.7"
  },
  "orig_nbformat": 4
 },
 "nbformat": 4,
 "nbformat_minor": 2
}
