{
 "cells": [
  {
   "cell_type": "markdown",
   "metadata": {},
   "source": [
    "# Introduction"
   ]
  },
  {
   "cell_type": "markdown",
   "metadata": {},
   "source": [
    "From the file import_tweets_hashtag.py I imported 34339 tweets that contains any of these words Russia, Ukraine, or #UkraineRussiaWar."
   ]
  },
  {
   "cell_type": "markdown",
   "metadata": {},
   "source": [
    "### Import necessary libraries "
   ]
  },
  {
   "cell_type": "code",
   "execution_count": 1,
   "metadata": {},
   "outputs": [],
   "source": [
    "import pandas as pd\n",
    "import numpy  as np\n",
    "import datetime \n",
    "import seaborn as sns\n",
    "import matplotlib.pyplot as plt\n",
    "import os\n",
    "import nltk\n",
    "import nltk.corpus\n",
    "from nltk.tokenize import word_tokenize\n",
    "from nltk.util import bigrams, trigrams, ngrams"
   ]
  },
  {
   "cell_type": "markdown",
   "metadata": {},
   "source": [
    "### Transfer the Imported Data to a Dataframe\n",
    "After importing the tweets using the Twitter API in the import_tweets_hashtag.py file, we will read it using a dataframe, and check the shape and the missing data on the raw data"
   ]
  },
  {
   "cell_type": "code",
   "execution_count": 2,
   "metadata": {},
   "outputs": [
    {
     "data": {
      "text/plain": [
       "(16000, 17)"
      ]
     },
     "execution_count": 2,
     "metadata": {},
     "output_type": "execute_result"
    }
   ],
   "source": [
    "raw_df = pd.read_csv('./data/raw_data.csv')\n",
    "#raw_df.sample(10)\n",
    "raw_df.shape"
   ]
  },
  {
   "cell_type": "code",
   "execution_count": 3,
   "metadata": {},
   "outputs": [
    {
     "data": {
      "text/plain": [
       "<AxesSubplot:>"
      ]
     },
     "execution_count": 3,
     "metadata": {},
     "output_type": "execute_result"
    },
    {
     "data": {
      "image/png": "[encoded data removed]",
      "text/plain": [
       "<Figure size 432x288 with 1 Axes>"
      ]
     },
     "metadata": {
      "needs_background": "light"
     },
     "output_type": "display_data"
    }
   ],
   "source": [
    "sns.heatmap(raw_df.isnull(), cbar=False)"
   ]
  },
  {
   "cell_type": "markdown",
   "metadata": {},
   "source": [
    "#### Choose the feature "
   ]
  },
  {
   "cell_type": "markdown",
   "metadata": {},
   "source": [
    "## Data Dictionary \n",
    "\n",
    "| Syntax                | Description |\n",
    "| -----------           | ----------- |\n",
    "|- tweetID :            | The unique identifier for Tweet. The dataset contain 34339 uniq tweets | \n",
    "|- tweetText :          | The actual text of the tweet |\n",
    "|- tweetRetweetCt :     | Number of times this Tweet has been retweeted|\n",
    "|- tweetFavoriteCt:     | Indicates approximately how many times this Tweet has been liked by Twitter users |\n",
    "|- tweetCreated:        | UTC time when this Tweet was created  |\n",
    "|- userID:              | The user ID who posted this Tweet |\n",
    "|- userName:            | The user Name who posted this Tweet |\n",
    "|- userLocation:        | The location of the user  |\n",
    "|- Tweetcountry:        | The location of the user  |"
   ]
  },
  {
   "cell_type": "code",
   "execution_count": 4,
   "metadata": {},
   "outputs": [
    {
     "data": {
      "text/plain": [
       "(16000, 12)"
      ]
     },
     "execution_count": 4,
     "metadata": {},
     "output_type": "execute_result"
    }
   ],
   "source": [
    "tweet_df = raw_df[['tweetID','tweetText','retweeted', 'tweetRetweetCt','tweetFavoriteCt','tweetdate','userID','userName','userLocation','TweetPlace','Tweetcountry','countrycode']]\n",
    "tweet_df.shape"
   ]
  },
  {
   "cell_type": "markdown",
   "metadata": {},
   "source": [
    "#### Change the tweetdate to datetime format  "
   ]
  },
  {
   "cell_type": "code",
   "execution_count": 6,
   "metadata": {},
   "outputs": [
    {
     "data": {
      "text/plain": [
       "2022-02-28    16000\n",
       "Name: date, dtype: int64"
      ]
     },
     "execution_count": 6,
     "metadata": {},
     "output_type": "execute_result"
    }
   ],
   "source": [
    "#tweet_df['tweetdate'] = pd.to_datetime(tweet_df['tweetdate'])\n",
    "#tweet_df['date'] = tweet_df['tweetdate'].dt.date\n",
    "tweet_df.date.value_counts()"
   ]
  },
  {
   "cell_type": "markdown",
   "metadata": {},
   "source": [
    "#### Fill the missing of user location with tweet country"
   ]
  },
  {
   "cell_type": "markdown",
   "metadata": {},
   "source": [
    "The process of obtaining country code is depend on the userlocation colume. it goes through long process \n",
    "I used the country_code.csv to create a dictionary "
   ]
  },
  {
   "cell_type": "code",
   "execution_count": 7,
   "metadata": {},
   "outputs": [],
   "source": [
    "import csv\n",
    "with open('./data/country_code.csv', mode='r') as inp:\n",
    "    reader = csv.reader(inp)\n",
    "    code_dic = {rows[0]:rows[1] for rows in reader}\n",
    "\n",
    "code_dic['Not Defined'] = 'XX'\n",
    "#print(code_dic)"
   ]
  },
  {
   "cell_type": "code",
   "execution_count": 190,
   "metadata": {},
   "outputs": [
    {
     "name": "stdout",
     "output_type": "stream",
     "text": [
      "XX\n"
     ]
    }
   ],
   "source": [
    "print(code_dic.get('Not Defined'))"
   ]
  },
  {
   "cell_type": "code",
   "execution_count": 23,
   "metadata": {},
   "outputs": [
    {
     "data": {
      "text/plain": [
       "<bound method IndexOpsMixin.nunique of 0                           NaN\n",
       "1                           🕳️🐇\n",
       "2                           NaN\n",
       "3        Dublin, Ireland. Sigh.\n",
       "4                           NaN\n",
       "                  ...          \n",
       "15995                    kansas\n",
       "15996                 The World\n",
       "15997                       NaN\n",
       "15998                       NaN\n",
       "15999                Not the US\n",
       "Name: userLocation, Length: 16000, dtype: object>"
      ]
     },
     "execution_count": 23,
     "metadata": {},
     "output_type": "execute_result"
    }
   ],
   "source": [
    "tweet_df['userLocation'].nunique"
   ]
  },
  {
   "cell_type": "code",
   "execution_count": 223,
   "metadata": {},
   "outputs": [
    {
     "data": {
      "text/html": [
       "<div>\n",
       "<style scoped>\n",
       "    .dataframe tbody tr th:only-of-type {\n",
       "        vertical-align: middle;\n",
       "    }\n",
       "\n",
       "    .dataframe tbody tr th {\n",
       "        vertical-align: top;\n",
       "    }\n",
       "\n",
       "    .dataframe thead th {\n",
       "        text-align: right;\n",
       "    }\n",
       "</style>\n",
       "<table border=\"1\" class=\"dataframe\">\n",
       "  <thead>\n",
       "    <tr style=\"text-align: right;\">\n",
       "      <th></th>\n",
       "      <th>tweetID</th>\n",
       "      <th>tweetText</th>\n",
       "      <th>retweeted</th>\n",
       "      <th>tweetRetweetCt</th>\n",
       "      <th>tweetFavoriteCt</th>\n",
       "      <th>tweetdate</th>\n",
       "      <th>userID</th>\n",
       "      <th>userName</th>\n",
       "      <th>userLocation</th>\n",
       "      <th>TweetPlace</th>\n",
       "      <th>Tweetcountry</th>\n",
       "      <th>countrycode</th>\n",
       "      <th>date</th>\n",
       "    </tr>\n",
       "  </thead>\n",
       "  <tbody>\n",
       "    <tr>\n",
       "      <th>1</th>\n",
       "      <td>1498425897954820099</td>\n",
       "      <td>Hey @GrantRandom, while listening to @SXMOctan...</td>\n",
       "      <td>False</td>\n",
       "      <td>0</td>\n",
       "      <td>0</td>\n",
       "      <td>2022-02-28 22:32:28+00:00</td>\n",
       "      <td>16796735</td>\n",
       "      <td>𝙶𝚊𝚕𝚕𝚊𝚐𝚑𝚎𝚛 🌻</td>\n",
       "      <td>🕳️🐇</td>\n",
       "      <td>NaN</td>\n",
       "      <td>NaN</td>\n",
       "      <td>NaN</td>\n",
       "      <td>2022-02-28</td>\n",
       "    </tr>\n",
       "    <tr>\n",
       "      <th>7</th>\n",
       "      <td>1498425896365084675</td>\n",
       "      <td>Why was a purported Russian propaganda website...</td>\n",
       "      <td>False</td>\n",
       "      <td>0</td>\n",
       "      <td>0</td>\n",
       "      <td>2022-02-28 22:32:27+00:00</td>\n",
       "      <td>6203722</td>\n",
       "      <td>Kevin Wardrop</td>\n",
       "      <td>Alba gu bràth</td>\n",
       "      <td>NaN</td>\n",
       "      <td>NaN</td>\n",
       "      <td>NaN</td>\n",
       "      <td>2022-02-28</td>\n",
       "    </tr>\n",
       "    <tr>\n",
       "      <th>12</th>\n",
       "      <td>1498425895622692864</td>\n",
       "      <td>@komadovsky hope #Ukraine get them soon. We ar...</td>\n",
       "      <td>False</td>\n",
       "      <td>0</td>\n",
       "      <td>0</td>\n",
       "      <td>2022-02-28 22:32:27+00:00</td>\n",
       "      <td>166097729</td>\n",
       "      <td>Mister Ka</td>\n",
       "      <td>Free Europe</td>\n",
       "      <td>NaN</td>\n",
       "      <td>NaN</td>\n",
       "      <td>NaN</td>\n",
       "      <td>2022-02-28</td>\n",
       "    </tr>\n",
       "    <tr>\n",
       "      <th>24</th>\n",
       "      <td>1498425892292366338</td>\n",
       "      <td>@SteveSkojec Boomer tier schizo post. Russia i...</td>\n",
       "      <td>False</td>\n",
       "      <td>0</td>\n",
       "      <td>0</td>\n",
       "      <td>2022-02-28 22:32:26+00:00</td>\n",
       "      <td>829876316</td>\n",
       "      <td>David</td>\n",
       "      <td>Query hell (or purgatory?)</td>\n",
       "      <td>NaN</td>\n",
       "      <td>NaN</td>\n",
       "      <td>NaN</td>\n",
       "      <td>2022-02-28</td>\n",
       "    </tr>\n",
       "    <tr>\n",
       "      <th>25</th>\n",
       "      <td>1498425892246335489</td>\n",
       "      <td>This might be effective but comes with a huge ...</td>\n",
       "      <td>False</td>\n",
       "      <td>0</td>\n",
       "      <td>0</td>\n",
       "      <td>2022-02-28 22:32:26+00:00</td>\n",
       "      <td>2885563465</td>\n",
       "      <td>Wars on the Brink</td>\n",
       "      <td>World</td>\n",
       "      <td>NaN</td>\n",
       "      <td>NaN</td>\n",
       "      <td>NaN</td>\n",
       "      <td>2022-02-28</td>\n",
       "    </tr>\n",
       "    <tr>\n",
       "      <th>...</th>\n",
       "      <td>...</td>\n",
       "      <td>...</td>\n",
       "      <td>...</td>\n",
       "      <td>...</td>\n",
       "      <td>...</td>\n",
       "      <td>...</td>\n",
       "      <td>...</td>\n",
       "      <td>...</td>\n",
       "      <td>...</td>\n",
       "      <td>...</td>\n",
       "      <td>...</td>\n",
       "      <td>...</td>\n",
       "      <td>...</td>\n",
       "    </tr>\n",
       "    <tr>\n",
       "      <th>15950</th>\n",
       "      <td>1498421967837450243</td>\n",
       "      <td>#UkraineRussiaWar r there American athletes in...</td>\n",
       "      <td>False</td>\n",
       "      <td>0</td>\n",
       "      <td>0</td>\n",
       "      <td>2022-02-28 22:16:51+00:00</td>\n",
       "      <td>1515235069</td>\n",
       "      <td>NeeVA</td>\n",
       "      <td>DMV</td>\n",
       "      <td>NaN</td>\n",
       "      <td>NaN</td>\n",
       "      <td>NaN</td>\n",
       "      <td>2022-02-28</td>\n",
       "    </tr>\n",
       "    <tr>\n",
       "      <th>15951</th>\n",
       "      <td>1498421967720005636</td>\n",
       "      <td>\"You do not, in fact, have to choose between A...</td>\n",
       "      <td>False</td>\n",
       "      <td>1</td>\n",
       "      <td>4</td>\n",
       "      <td>2022-02-28 22:16:51+00:00</td>\n",
       "      <td>472127897</td>\n",
       "      <td>Ricardo Segretin 💻🔨</td>\n",
       "      <td>Buenos Aires, Argentina</td>\n",
       "      <td>NaN</td>\n",
       "      <td>NaN</td>\n",
       "      <td>NaN</td>\n",
       "      <td>2022-02-28</td>\n",
       "    </tr>\n",
       "    <tr>\n",
       "      <th>15952</th>\n",
       "      <td>1498421967569002498</td>\n",
       "      <td>tv show\\nhttps://t.co/5CSRNHJlvD</td>\n",
       "      <td>False</td>\n",
       "      <td>0</td>\n",
       "      <td>0</td>\n",
       "      <td>2022-02-28 22:16:51+00:00</td>\n",
       "      <td>1159998170459508736</td>\n",
       "      <td>gordie.chowe</td>\n",
       "      <td>Chinadastan</td>\n",
       "      <td>NaN</td>\n",
       "      <td>NaN</td>\n",
       "      <td>NaN</td>\n",
       "      <td>2022-02-28</td>\n",
       "    </tr>\n",
       "    <tr>\n",
       "      <th>15988</th>\n",
       "      <td>1498421959415123969</td>\n",
       "      <td>@richsignorelli Did you see he’s “banning” peo...</td>\n",
       "      <td>False</td>\n",
       "      <td>0</td>\n",
       "      <td>0</td>\n",
       "      <td>2022-02-28 22:16:49+00:00</td>\n",
       "      <td>1174023199975063552</td>\n",
       "      <td>✨T’Shetaar✨🖖🏻It’s the corruption, Stupid!🏴‍☠️</td>\n",
       "      <td>Somewhere out there ✨</td>\n",
       "      <td>NaN</td>\n",
       "      <td>NaN</td>\n",
       "      <td>NaN</td>\n",
       "      <td>2022-02-28</td>\n",
       "    </tr>\n",
       "    <tr>\n",
       "      <th>15999</th>\n",
       "      <td>1498421956751802379</td>\n",
       "      <td>Recent polls indicate only 1/3 of the REPUBLIC...</td>\n",
       "      <td>False</td>\n",
       "      <td>6</td>\n",
       "      <td>29</td>\n",
       "      <td>2022-02-28 22:16:48+00:00</td>\n",
       "      <td>1348171614551207937</td>\n",
       "      <td>Styx666Hexen420Hammer69</td>\n",
       "      <td>Not the US</td>\n",
       "      <td>NaN</td>\n",
       "      <td>NaN</td>\n",
       "      <td>NaN</td>\n",
       "      <td>2022-02-28</td>\n",
       "    </tr>\n",
       "  </tbody>\n",
       "</table>\n",
       "<p>7156 rows × 13 columns</p>\n",
       "</div>"
      ],
      "text/plain": [
       "                   tweetID                                          tweetText  \\\n",
       "1      1498425897954820099  Hey @GrantRandom, while listening to @SXMOctan...   \n",
       "7      1498425896365084675  Why was a purported Russian propaganda website...   \n",
       "12     1498425895622692864  @komadovsky hope #Ukraine get them soon. We ar...   \n",
       "24     1498425892292366338  @SteveSkojec Boomer tier schizo post. Russia i...   \n",
       "25     1498425892246335489  This might be effective but comes with a huge ...   \n",
       "...                    ...                                                ...   \n",
       "15950  1498421967837450243  #UkraineRussiaWar r there American athletes in...   \n",
       "15951  1498421967720005636  \"You do not, in fact, have to choose between A...   \n",
       "15952  1498421967569002498                   tv show\\nhttps://t.co/5CSRNHJlvD   \n",
       "15988  1498421959415123969  @richsignorelli Did you see he’s “banning” peo...   \n",
       "15999  1498421956751802379  Recent polls indicate only 1/3 of the REPUBLIC...   \n",
       "\n",
       "       retweeted  tweetRetweetCt  tweetFavoriteCt                 tweetdate  \\\n",
       "1          False               0                0 2022-02-28 22:32:28+00:00   \n",
       "7          False               0                0 2022-02-28 22:32:27+00:00   \n",
       "12         False               0                0 2022-02-28 22:32:27+00:00   \n",
       "24         False               0                0 2022-02-28 22:32:26+00:00   \n",
       "25         False               0                0 2022-02-28 22:32:26+00:00   \n",
       "...          ...             ...              ...                       ...   \n",
       "15950      False               0                0 2022-02-28 22:16:51+00:00   \n",
       "15951      False               1                4 2022-02-28 22:16:51+00:00   \n",
       "15952      False               0                0 2022-02-28 22:16:51+00:00   \n",
       "15988      False               0                0 2022-02-28 22:16:49+00:00   \n",
       "15999      False               6               29 2022-02-28 22:16:48+00:00   \n",
       "\n",
       "                    userID                                       userName  \\\n",
       "1                 16796735                                    𝙶𝚊𝚕𝚕𝚊𝚐𝚑𝚎𝚛 🌻   \n",
       "7                  6203722                                  Kevin Wardrop   \n",
       "12               166097729                                      Mister Ka   \n",
       "24               829876316                                          David   \n",
       "25              2885563465                              Wars on the Brink   \n",
       "...                    ...                                            ...   \n",
       "15950           1515235069                                          NeeVA   \n",
       "15951            472127897                            Ricardo Segretin 💻🔨   \n",
       "15952  1159998170459508736                                   gordie.chowe   \n",
       "15988  1174023199975063552  ✨T’Shetaar✨🖖🏻It’s the corruption, Stupid!🏴‍☠️   \n",
       "15999  1348171614551207937                        Styx666Hexen420Hammer69   \n",
       "\n",
       "                     userLocation TweetPlace Tweetcountry countrycode  \\\n",
       "1                             🕳️🐇        NaN          NaN         NaN   \n",
       "7                   Alba gu bràth        NaN          NaN         NaN   \n",
       "12                    Free Europe        NaN          NaN         NaN   \n",
       "24     Query hell (or purgatory?)        NaN          NaN         NaN   \n",
       "25                         World         NaN          NaN         NaN   \n",
       "...                           ...        ...          ...         ...   \n",
       "15950                         DMV        NaN          NaN         NaN   \n",
       "15951     Buenos Aires, Argentina        NaN          NaN         NaN   \n",
       "15952                 Chinadastan        NaN          NaN         NaN   \n",
       "15988       Somewhere out there ✨        NaN          NaN         NaN   \n",
       "15999                  Not the US        NaN          NaN         NaN   \n",
       "\n",
       "             date  \n",
       "1      2022-02-28  \n",
       "7      2022-02-28  \n",
       "12     2022-02-28  \n",
       "24     2022-02-28  \n",
       "25     2022-02-28  \n",
       "...           ...  \n",
       "15950  2022-02-28  \n",
       "15951  2022-02-28  \n",
       "15952  2022-02-28  \n",
       "15988  2022-02-28  \n",
       "15999  2022-02-28  \n",
       "\n",
       "[7156 rows x 13 columns]"
      ]
     },
     "execution_count": 223,
     "metadata": {},
     "output_type": "execute_result"
    }
   ],
   "source": [
    "tweet_df[tweet_df['countrycode'].isnull() & tweet_df['userLocation'].notnull()]"
   ]
  },
  {
   "cell_type": "code",
   "execution_count": 8,
   "metadata": {},
   "outputs": [
    {
     "data": {
      "text/plain": [
       "United States               219\n",
       "London, England             119\n",
       "USA                         108\n",
       "London                      102\n",
       "Canada                       91\n",
       "                           ... \n",
       "Fairyland                     1\n",
       "The Underground Railroad      1\n",
       "Martock, England              1\n",
       "winnipeg                      1\n",
       "Not the US                    1\n",
       "Name: userLocation, Length: 4691, dtype: int64"
      ]
     },
     "execution_count": 8,
     "metadata": {},
     "output_type": "execute_result"
    }
   ],
   "source": [
    "tweet_df.userLocation.value_counts()"
   ]
  },
  {
   "cell_type": "code",
   "execution_count": 224,
   "metadata": {},
   "outputs": [
    {
     "name": "stdout",
     "output_type": "stream",
     "text": [
      "XX\n"
     ]
    }
   ],
   "source": [
    "country_key = 'Not Defined'\n",
    "country_Name = 'World'\n",
    "print(code_dic.get(country_key))"
   ]
  },
  {
   "cell_type": "code",
   "execution_count": 225,
   "metadata": {},
   "outputs": [
    {
     "data": {
      "text/html": [
       "<div>\n",
       "<style scoped>\n",
       "    .dataframe tbody tr th:only-of-type {\n",
       "        vertical-align: middle;\n",
       "    }\n",
       "\n",
       "    .dataframe tbody tr th {\n",
       "        vertical-align: top;\n",
       "    }\n",
       "\n",
       "    .dataframe thead th {\n",
       "        text-align: right;\n",
       "    }\n",
       "</style>\n",
       "<table border=\"1\" class=\"dataframe\">\n",
       "  <thead>\n",
       "    <tr style=\"text-align: right;\">\n",
       "      <th></th>\n",
       "      <th>tweetID</th>\n",
       "      <th>tweetText</th>\n",
       "      <th>retweeted</th>\n",
       "      <th>tweetRetweetCt</th>\n",
       "      <th>tweetFavoriteCt</th>\n",
       "      <th>tweetdate</th>\n",
       "      <th>userID</th>\n",
       "      <th>userName</th>\n",
       "      <th>userLocation</th>\n",
       "      <th>TweetPlace</th>\n",
       "      <th>Tweetcountry</th>\n",
       "      <th>countrycode</th>\n",
       "      <th>date</th>\n",
       "    </tr>\n",
       "  </thead>\n",
       "  <tbody>\n",
       "    <tr>\n",
       "      <th>25</th>\n",
       "      <td>1498425892246335489</td>\n",
       "      <td>This might be effective but comes with a huge ...</td>\n",
       "      <td>False</td>\n",
       "      <td>0</td>\n",
       "      <td>0</td>\n",
       "      <td>2022-02-28 22:32:26+00:00</td>\n",
       "      <td>2885563465</td>\n",
       "      <td>Wars on the Brink</td>\n",
       "      <td>World</td>\n",
       "      <td>NaN</td>\n",
       "      <td>NaN</td>\n",
       "      <td>NaN</td>\n",
       "      <td>2022-02-28</td>\n",
       "    </tr>\n",
       "    <tr>\n",
       "      <th>67</th>\n",
       "      <td>1498425883195064320</td>\n",
       "      <td>FIFA's double standards\\n#Ukraine #UkraineRuss...</td>\n",
       "      <td>False</td>\n",
       "      <td>0</td>\n",
       "      <td>0</td>\n",
       "      <td>2022-02-28 22:32:24+00:00</td>\n",
       "      <td>1108121022732124167</td>\n",
       "      <td>Oussama</td>\n",
       "      <td>Worldwide</td>\n",
       "      <td>NaN</td>\n",
       "      <td>NaN</td>\n",
       "      <td>NaN</td>\n",
       "      <td>2022-02-28</td>\n",
       "    </tr>\n",
       "    <tr>\n",
       "      <th>578</th>\n",
       "      <td>1498425752156614660</td>\n",
       "      <td>Ukraine does not want to be part of the Russia...</td>\n",
       "      <td>False</td>\n",
       "      <td>0</td>\n",
       "      <td>1</td>\n",
       "      <td>2022-02-28 22:31:53+00:00</td>\n",
       "      <td>2582444442</td>\n",
       "      <td>Zoran Elijah Gabriel (house Clermont-Goschütz)</td>\n",
       "      <td>World Planet Earth</td>\n",
       "      <td>NaN</td>\n",
       "      <td>NaN</td>\n",
       "      <td>NaN</td>\n",
       "      <td>2022-02-28</td>\n",
       "    </tr>\n",
       "    <tr>\n",
       "      <th>1069</th>\n",
       "      <td>1498425627057307649</td>\n",
       "      <td>Miami Beach to Show Solidarity with People of ...</td>\n",
       "      <td>False</td>\n",
       "      <td>0</td>\n",
       "      <td>0</td>\n",
       "      <td>2022-02-28 22:31:23+00:00</td>\n",
       "      <td>17931773</td>\n",
       "      <td>City of Miami Beach</td>\n",
       "      <td>Fun &amp; Sun Capital of the World</td>\n",
       "      <td>NaN</td>\n",
       "      <td>NaN</td>\n",
       "      <td>NaN</td>\n",
       "      <td>2022-02-28</td>\n",
       "    </tr>\n",
       "    <tr>\n",
       "      <th>1386</th>\n",
       "      <td>1498425549013897216</td>\n",
       "      <td>.@mattgutmanABC reports from the train station...</td>\n",
       "      <td>False</td>\n",
       "      <td>14</td>\n",
       "      <td>25</td>\n",
       "      <td>2022-02-28 22:31:04+00:00</td>\n",
       "      <td>28785486</td>\n",
       "      <td>ABC News</td>\n",
       "      <td>New York City / Worldwide</td>\n",
       "      <td>NaN</td>\n",
       "      <td>NaN</td>\n",
       "      <td>NaN</td>\n",
       "      <td>2022-02-28</td>\n",
       "    </tr>\n",
       "    <tr>\n",
       "      <th>...</th>\n",
       "      <td>...</td>\n",
       "      <td>...</td>\n",
       "      <td>...</td>\n",
       "      <td>...</td>\n",
       "      <td>...</td>\n",
       "      <td>...</td>\n",
       "      <td>...</td>\n",
       "      <td>...</td>\n",
       "      <td>...</td>\n",
       "      <td>...</td>\n",
       "      <td>...</td>\n",
       "      <td>...</td>\n",
       "      <td>...</td>\n",
       "    </tr>\n",
       "    <tr>\n",
       "      <th>15223</th>\n",
       "      <td>1498422138046492677</td>\n",
       "      <td>So ashamed to be thought of as British, let al...</td>\n",
       "      <td>False</td>\n",
       "      <td>0</td>\n",
       "      <td>1</td>\n",
       "      <td>2022-02-28 22:17:31+00:00</td>\n",
       "      <td>36016773</td>\n",
       "      <td>Rupert Bumfrey 💙🖤🤎💚</td>\n",
       "      <td>Europe/Arabia/World</td>\n",
       "      <td>NaN</td>\n",
       "      <td>NaN</td>\n",
       "      <td>NaN</td>\n",
       "      <td>2022-02-28</td>\n",
       "    </tr>\n",
       "    <tr>\n",
       "      <th>15265</th>\n",
       "      <td>1498422128688996356</td>\n",
       "      <td>@2doesnotequal5 @RealCandaceO To equate events...</td>\n",
       "      <td>False</td>\n",
       "      <td>1</td>\n",
       "      <td>1</td>\n",
       "      <td>2022-02-28 22:17:29+00:00</td>\n",
       "      <td>870427502</td>\n",
       "      <td>Pro-Choice Adoptee with a WHITEBOARD 🦂🖤🇺🇸🇺🇦</td>\n",
       "      <td>VA,US, the World, the Universe</td>\n",
       "      <td>NaN</td>\n",
       "      <td>NaN</td>\n",
       "      <td>NaN</td>\n",
       "      <td>2022-02-28</td>\n",
       "    </tr>\n",
       "    <tr>\n",
       "      <th>15405</th>\n",
       "      <td>1498422098582196229</td>\n",
       "      <td>@YourAnonEmbassy Ukraine needs this https://t....</td>\n",
       "      <td>False</td>\n",
       "      <td>0</td>\n",
       "      <td>0</td>\n",
       "      <td>2022-02-28 22:17:22+00:00</td>\n",
       "      <td>1496069421797888006</td>\n",
       "      <td>NonFungibleDeny</td>\n",
       "      <td>All over the World</td>\n",
       "      <td>NaN</td>\n",
       "      <td>NaN</td>\n",
       "      <td>NaN</td>\n",
       "      <td>2022-02-28</td>\n",
       "    </tr>\n",
       "    <tr>\n",
       "      <th>15473</th>\n",
       "      <td>1498422080894910467</td>\n",
       "      <td>Reporting from the #Ukraine border @WCKitchen ...</td>\n",
       "      <td>False</td>\n",
       "      <td>1</td>\n",
       "      <td>0</td>\n",
       "      <td>2022-02-28 22:17:18+00:00</td>\n",
       "      <td>1185542156737564672</td>\n",
       "      <td>Vitascope</td>\n",
       "      <td>WorldWide</td>\n",
       "      <td>NaN</td>\n",
       "      <td>NaN</td>\n",
       "      <td>NaN</td>\n",
       "      <td>2022-02-28</td>\n",
       "    </tr>\n",
       "    <tr>\n",
       "      <th>15497</th>\n",
       "      <td>1498422075911852033</td>\n",
       "      <td>Zelensky: The talks (with Russia) took place, ...</td>\n",
       "      <td>False</td>\n",
       "      <td>6</td>\n",
       "      <td>20</td>\n",
       "      <td>2022-02-28 22:17:16+00:00</td>\n",
       "      <td>2885563465</td>\n",
       "      <td>Wars on the Brink</td>\n",
       "      <td>World</td>\n",
       "      <td>NaN</td>\n",
       "      <td>NaN</td>\n",
       "      <td>NaN</td>\n",
       "      <td>2022-02-28</td>\n",
       "    </tr>\n",
       "  </tbody>\n",
       "</table>\n",
       "<p>68 rows × 13 columns</p>\n",
       "</div>"
      ],
      "text/plain": [
       "                   tweetID                                          tweetText  \\\n",
       "25     1498425892246335489  This might be effective but comes with a huge ...   \n",
       "67     1498425883195064320  FIFA's double standards\\n#Ukraine #UkraineRuss...   \n",
       "578    1498425752156614660  Ukraine does not want to be part of the Russia...   \n",
       "1069   1498425627057307649  Miami Beach to Show Solidarity with People of ...   \n",
       "1386   1498425549013897216  .@mattgutmanABC reports from the train station...   \n",
       "...                    ...                                                ...   \n",
       "15223  1498422138046492677  So ashamed to be thought of as British, let al...   \n",
       "15265  1498422128688996356  @2doesnotequal5 @RealCandaceO To equate events...   \n",
       "15405  1498422098582196229  @YourAnonEmbassy Ukraine needs this https://t....   \n",
       "15473  1498422080894910467  Reporting from the #Ukraine border @WCKitchen ...   \n",
       "15497  1498422075911852033  Zelensky: The talks (with Russia) took place, ...   \n",
       "\n",
       "       retweeted  tweetRetweetCt  tweetFavoriteCt                 tweetdate  \\\n",
       "25         False               0                0 2022-02-28 22:32:26+00:00   \n",
       "67         False               0                0 2022-02-28 22:32:24+00:00   \n",
       "578        False               0                1 2022-02-28 22:31:53+00:00   \n",
       "1069       False               0                0 2022-02-28 22:31:23+00:00   \n",
       "1386       False              14               25 2022-02-28 22:31:04+00:00   \n",
       "...          ...             ...              ...                       ...   \n",
       "15223      False               0                1 2022-02-28 22:17:31+00:00   \n",
       "15265      False               1                1 2022-02-28 22:17:29+00:00   \n",
       "15405      False               0                0 2022-02-28 22:17:22+00:00   \n",
       "15473      False               1                0 2022-02-28 22:17:18+00:00   \n",
       "15497      False               6               20 2022-02-28 22:17:16+00:00   \n",
       "\n",
       "                    userID                                        userName  \\\n",
       "25              2885563465                               Wars on the Brink   \n",
       "67     1108121022732124167                                         Oussama   \n",
       "578             2582444442  Zoran Elijah Gabriel (house Clermont-Goschütz)   \n",
       "1069              17931773                             City of Miami Beach   \n",
       "1386              28785486                                        ABC News   \n",
       "...                    ...                                             ...   \n",
       "15223             36016773                             Rupert Bumfrey 💙🖤🤎💚   \n",
       "15265            870427502     Pro-Choice Adoptee with a WHITEBOARD 🦂🖤🇺🇸🇺🇦   \n",
       "15405  1496069421797888006                                 NonFungibleDeny   \n",
       "15473  1185542156737564672                                       Vitascope   \n",
       "15497           2885563465                               Wars on the Brink   \n",
       "\n",
       "                         userLocation TweetPlace Tweetcountry countrycode  \\\n",
       "25                             World         NaN          NaN         NaN   \n",
       "67                          Worldwide        NaN          NaN         NaN   \n",
       "578                World Planet Earth        NaN          NaN         NaN   \n",
       "1069   Fun & Sun Capital of the World        NaN          NaN         NaN   \n",
       "1386        New York City / Worldwide        NaN          NaN         NaN   \n",
       "...                               ...        ...          ...         ...   \n",
       "15223             Europe/Arabia/World        NaN          NaN         NaN   \n",
       "15265  VA,US, the World, the Universe        NaN          NaN         NaN   \n",
       "15405              All over the World        NaN          NaN         NaN   \n",
       "15473                       WorldWide        NaN          NaN         NaN   \n",
       "15497                          World         NaN          NaN         NaN   \n",
       "\n",
       "             date  \n",
       "25     2022-02-28  \n",
       "67     2022-02-28  \n",
       "578    2022-02-28  \n",
       "1069   2022-02-28  \n",
       "1386   2022-02-28  \n",
       "...           ...  \n",
       "15223  2022-02-28  \n",
       "15265  2022-02-28  \n",
       "15405  2022-02-28  \n",
       "15473  2022-02-28  \n",
       "15497  2022-02-28  \n",
       "\n",
       "[68 rows x 13 columns]"
      ]
     },
     "execution_count": 225,
     "metadata": {},
     "output_type": "execute_result"
    }
   ],
   "source": [
    "tweet_df[tweet_df['userLocation'].str.contains(country_Name,na=False) & tweet_df['countrycode'].isnull()]"
   ]
  },
  {
   "cell_type": "code",
   "execution_count": 219,
   "metadata": {},
   "outputs": [
    {
     "name": "stderr",
     "output_type": "stream",
     "text": [
      "/tmp/ipykernel_9733/874373601.py:1: SettingWithCopyWarning: \n",
      "A value is trying to be set on a copy of a slice from a DataFrame.\n",
      "Try using .loc[row_indexer,col_indexer] = value instead\n",
      "\n",
      "See the caveats in the documentation: https://pandas.pydata.org/pandas-docs/stable/user_guide/indexing.html#returning-a-view-versus-a-copy\n",
      "  tweet_df['countrycode'] = np.where(tweet_df['userLocation'].str.contains(country_Name,na=False) & tweet_df['countrycode'].isnull(), code_dic.get(country_key), tweet_df['countrycode'])\n"
     ]
    }
   ],
   "source": [
    "tweet_df['countrycode'] = np.where(tweet_df['userLocation'].str.contains(country_Name,na=False) & tweet_df['countrycode'].isnull(), code_dic.get(country_key), tweet_df['countrycode'])"
   ]
  },
  {
   "cell_type": "code",
   "execution_count": 222,
   "metadata": {},
   "outputs": [
    {
     "data": {
      "text/plain": [
       "13213"
      ]
     },
     "execution_count": 222,
     "metadata": {},
     "output_type": "execute_result"
    }
   ],
   "source": [
    "tweet_df.countrycode.isnull().sum()"
   ]
  },
  {
   "cell_type": "code",
   "execution_count": 220,
   "metadata": {},
   "outputs": [
    {
     "data": {
      "text/plain": [
       "US    1465\n",
       "CA     492\n",
       "AU     173\n",
       "NG     147\n",
       "DE     114\n",
       "IE     111\n",
       "UA      86\n",
       "GB      46\n",
       "PT      39\n",
       "PL      29\n",
       "JP      18\n",
       "XX       8\n",
       "UG       8\n",
       "IN       8\n",
       "IT       4\n",
       "MA       3\n",
       "EE       3\n",
       "KR       3\n",
       "NO       3\n",
       "ES       2\n",
       "NL       2\n",
       "BR       2\n",
       "FI       2\n",
       "JM       1\n",
       "TT       1\n",
       "LR       1\n",
       "TR       1\n",
       "KE       1\n",
       "ZA       1\n",
       "GR       1\n",
       "GE       1\n",
       "BS       1\n",
       "RU       1\n",
       "FR       1\n",
       "BE       1\n",
       "ID       1\n",
       "HR       1\n",
       "GH       1\n",
       "DO       1\n",
       "MX       1\n",
       "CH       1\n",
       "NZ       1\n",
       "Name: countrycode, dtype: int64"
      ]
     },
     "execution_count": 220,
     "metadata": {},
     "output_type": "execute_result"
    }
   ],
   "source": [
    "tweet_df.countrycode.value_counts()"
   ]
  },
  {
   "cell_type": "markdown",
   "metadata": {},
   "source": []
  },
  {
   "cell_type": "code",
   "execution_count": null,
   "metadata": {},
   "outputs": [],
   "source": [
    "tweet_df['countrycode'] = np.where(country_code['Name'] in tweet_df['userLocation'], country_code['Code'], '')"
   ]
  },
  {
   "cell_type": "code",
   "execution_count": null,
   "metadata": {},
   "outputs": [],
   "source": [
    "len(tweet_df[tweet_df.userLocation.isnull()])"
   ]
  },
  {
   "cell_type": "code",
   "execution_count": null,
   "metadata": {},
   "outputs": [],
   "source": [
    "len(tweet_df[tweet_df.userLocation.isnull() & (tweet_df.Tweetcountry.notnull())])"
   ]
  },
  {
   "cell_type": "code",
   "execution_count": null,
   "metadata": {},
   "outputs": [],
   "source": []
  },
  {
   "cell_type": "markdown",
   "metadata": {},
   "source": [
    "#### Save Cleaned Data"
   ]
  },
  {
   "cell_type": "markdown",
   "metadata": {},
   "source": [
    "Save the cleaned data to cleaned_data.csv"
   ]
  },
  {
   "cell_type": "code",
   "execution_count": 229,
   "metadata": {},
   "outputs": [],
   "source": [
    "# Overwrite or add\n",
    "ans = input('Do you want overwrite the file? (y/n): ')\n",
    "if (ans == 'y'):\n",
    "    tweet_df.to_csv('./data/cleaned_data.csv', index=False)\n",
    "else:  \n",
    "    # check if the file exist, it will add the data \n",
    "    try:\n",
    "        with open('./data/cleaned_data.csv') as f:\n",
    "            print('Add The data to the existing file')\n",
    "            tweet_df.to_csv('./data/cleaned_data.csv',mode='a', header=False, index=False)\n",
    "    except IOError:\n",
    "       print('Create new file')\n",
    "       tweet_df.to_csv('./data/cleaned_data.csv', index=False)"
   ]
  },
  {
   "cell_type": "code",
   "execution_count": 227,
   "metadata": {},
   "outputs": [
    {
     "data": {
      "text/plain": [
       "(16000, 13)"
      ]
     },
     "execution_count": 227,
     "metadata": {},
     "output_type": "execute_result"
    }
   ],
   "source": [
    "cleaned_tweet_df = pd.read_csv('./data/cleaned_data.csv')\n",
    "cleaned_tweet_df.shape"
   ]
  },
  {
   "cell_type": "code",
   "execution_count": 228,
   "metadata": {},
   "outputs": [
    {
     "data": {
      "text/html": [
       "<div>\n",
       "<style scoped>\n",
       "    .dataframe tbody tr th:only-of-type {\n",
       "        vertical-align: middle;\n",
       "    }\n",
       "\n",
       "    .dataframe tbody tr th {\n",
       "        vertical-align: top;\n",
       "    }\n",
       "\n",
       "    .dataframe thead th {\n",
       "        text-align: right;\n",
       "    }\n",
       "</style>\n",
       "<table border=\"1\" class=\"dataframe\">\n",
       "  <thead>\n",
       "    <tr style=\"text-align: right;\">\n",
       "      <th></th>\n",
       "      <th>tweetID</th>\n",
       "      <th>tweetText</th>\n",
       "      <th>retweeted</th>\n",
       "      <th>tweetRetweetCt</th>\n",
       "      <th>tweetFavoriteCt</th>\n",
       "      <th>tweetdate</th>\n",
       "      <th>userID</th>\n",
       "      <th>userName</th>\n",
       "      <th>userLocation</th>\n",
       "      <th>TweetPlace</th>\n",
       "      <th>Tweetcountry</th>\n",
       "      <th>countrycode</th>\n",
       "      <th>date</th>\n",
       "    </tr>\n",
       "  </thead>\n",
       "  <tbody>\n",
       "    <tr>\n",
       "      <th>0</th>\n",
       "      <td>1498425898089033731</td>\n",
       "      <td>@RealPepeEscobar Flush those fancy degrees dow...</td>\n",
       "      <td>False</td>\n",
       "      <td>0</td>\n",
       "      <td>0</td>\n",
       "      <td>2022-02-28 22:32:28+00:00</td>\n",
       "      <td>3306928708</td>\n",
       "      <td>Isaac La</td>\n",
       "      <td>NaN</td>\n",
       "      <td>NaN</td>\n",
       "      <td>NaN</td>\n",
       "      <td>NaN</td>\n",
       "      <td>2022-02-28</td>\n",
       "    </tr>\n",
       "    <tr>\n",
       "      <th>1</th>\n",
       "      <td>1498425897954820099</td>\n",
       "      <td>Hey @GrantRandom, while listening to @SXMOctan...</td>\n",
       "      <td>False</td>\n",
       "      <td>0</td>\n",
       "      <td>0</td>\n",
       "      <td>2022-02-28 22:32:28+00:00</td>\n",
       "      <td>16796735</td>\n",
       "      <td>𝙶𝚊𝚕𝚕𝚊𝚐𝚑𝚎𝚛 🌻</td>\n",
       "      <td>🕳️🐇</td>\n",
       "      <td>NaN</td>\n",
       "      <td>NaN</td>\n",
       "      <td>NaN</td>\n",
       "      <td>2022-02-28</td>\n",
       "    </tr>\n",
       "    <tr>\n",
       "      <th>2</th>\n",
       "      <td>1498425897820606465</td>\n",
       "      <td>Stephen King stands with #Ukraine!\\n@StephenKi...</td>\n",
       "      <td>False</td>\n",
       "      <td>0</td>\n",
       "      <td>0</td>\n",
       "      <td>2022-02-28 22:32:28+00:00</td>\n",
       "      <td>377894223</td>\n",
       "      <td>Giuseppe Squeri</td>\n",
       "      <td>NaN</td>\n",
       "      <td>NaN</td>\n",
       "      <td>NaN</td>\n",
       "      <td>NaN</td>\n",
       "      <td>2022-02-28</td>\n",
       "    </tr>\n",
       "    <tr>\n",
       "      <th>3</th>\n",
       "      <td>1498425897757687810</td>\n",
       "      <td>@kilogolfsierra @form_whisperer @EdwardGLuce U...</td>\n",
       "      <td>False</td>\n",
       "      <td>0</td>\n",
       "      <td>0</td>\n",
       "      <td>2022-02-28 22:32:28+00:00</td>\n",
       "      <td>2966312224</td>\n",
       "      <td>Mark Keogh</td>\n",
       "      <td>Dublin, Ireland. Sigh.</td>\n",
       "      <td>NaN</td>\n",
       "      <td>NaN</td>\n",
       "      <td>IE</td>\n",
       "      <td>2022-02-28</td>\n",
       "    </tr>\n",
       "    <tr>\n",
       "      <th>4</th>\n",
       "      <td>1498425897682186241</td>\n",
       "      <td>@indiana_imo It's because Russia is a nuclear ...</td>\n",
       "      <td>False</td>\n",
       "      <td>0</td>\n",
       "      <td>0</td>\n",
       "      <td>2022-02-28 22:32:28+00:00</td>\n",
       "      <td>1453830849972117504</td>\n",
       "      <td>klebanon</td>\n",
       "      <td>NaN</td>\n",
       "      <td>NaN</td>\n",
       "      <td>NaN</td>\n",
       "      <td>NaN</td>\n",
       "      <td>2022-02-28</td>\n",
       "    </tr>\n",
       "  </tbody>\n",
       "</table>\n",
       "</div>"
      ],
      "text/plain": [
       "               tweetID                                          tweetText  \\\n",
       "0  1498425898089033731  @RealPepeEscobar Flush those fancy degrees dow...   \n",
       "1  1498425897954820099  Hey @GrantRandom, while listening to @SXMOctan...   \n",
       "2  1498425897820606465  Stephen King stands with #Ukraine!\\n@StephenKi...   \n",
       "3  1498425897757687810  @kilogolfsierra @form_whisperer @EdwardGLuce U...   \n",
       "4  1498425897682186241  @indiana_imo It's because Russia is a nuclear ...   \n",
       "\n",
       "   retweeted  tweetRetweetCt  tweetFavoriteCt                  tweetdate  \\\n",
       "0      False               0                0  2022-02-28 22:32:28+00:00   \n",
       "1      False               0                0  2022-02-28 22:32:28+00:00   \n",
       "2      False               0                0  2022-02-28 22:32:28+00:00   \n",
       "3      False               0                0  2022-02-28 22:32:28+00:00   \n",
       "4      False               0                0  2022-02-28 22:32:28+00:00   \n",
       "\n",
       "                userID         userName            userLocation TweetPlace  \\\n",
       "0           3306928708         Isaac La                     NaN        NaN   \n",
       "1             16796735      𝙶𝚊𝚕𝚕𝚊𝚐𝚑𝚎𝚛 🌻                     🕳️🐇        NaN   \n",
       "2            377894223  Giuseppe Squeri                     NaN        NaN   \n",
       "3           2966312224       Mark Keogh  Dublin, Ireland. Sigh.        NaN   \n",
       "4  1453830849972117504         klebanon                     NaN        NaN   \n",
       "\n",
       "  Tweetcountry countrycode        date  \n",
       "0          NaN         NaN  2022-02-28  \n",
       "1          NaN         NaN  2022-02-28  \n",
       "2          NaN         NaN  2022-02-28  \n",
       "3          NaN          IE  2022-02-28  \n",
       "4          NaN         NaN  2022-02-28  "
      ]
     },
     "execution_count": 228,
     "metadata": {},
     "output_type": "execute_result"
    }
   ],
   "source": [
    "cleaned_tweet_df.head()"
   ]
  },
  {
   "cell_type": "markdown",
   "metadata": {},
   "source": [
    "#### Delete the duplicate tweets"
   ]
  },
  {
   "cell_type": "code",
   "execution_count": null,
   "metadata": {},
   "outputs": [],
   "source": [
    "tweet_df.tweetText.value_counts()"
   ]
  },
  {
   "cell_type": "code",
   "execution_count": null,
   "metadata": {},
   "outputs": [],
   "source": [
    "tweet_df['duplicattweet'] = tweet_df.duplicated(subset=['tweetText'], keep='first')"
   ]
  },
  {
   "cell_type": "code",
   "execution_count": null,
   "metadata": {},
   "outputs": [],
   "source": [
    "tweet_df.duplicattweet.value_counts()"
   ]
  },
  {
   "cell_type": "code",
   "execution_count": null,
   "metadata": {},
   "outputs": [],
   "source": [
    "tweet_df.drop(tweet_df[tweet_df.duplicattweet == True].index, inplace=True)\n",
    "tweet_df.duplicattweet.value_counts()"
   ]
  },
  {
   "cell_type": "markdown",
   "metadata": {},
   "source": [
    "---------------------------------------------------------------------------------------------------"
   ]
  },
  {
   "cell_type": "markdown",
   "metadata": {},
   "source": [
    "# Under Development  "
   ]
  },
  {
   "cell_type": "markdown",
   "metadata": {},
   "source": []
  },
  {
   "cell_type": "code",
   "execution_count": null,
   "metadata": {},
   "outputs": [],
   "source": [
    "len(tweet_df[tweet_df.userLocation.isnull() & (tweet_df.countrycode.notnull())]) "
   ]
  },
  {
   "cell_type": "code",
   "execution_count": null,
   "metadata": {},
   "outputs": [],
   "source": [
    "tweet_df[(tweet_df.userLocation.isnull() & (tweet_df.countrycode.notnull()))]"
   ]
  },
  {
   "cell_type": "code",
   "execution_count": null,
   "metadata": {},
   "outputs": [],
   "source": [
    "tweet_df.info()"
   ]
  },
  {
   "cell_type": "code",
   "execution_count": null,
   "metadata": {},
   "outputs": [],
   "source": [
    "sns.set_theme(style=\"ticks\")\n",
    "fig_dims = (8, 6)\n",
    "fig, ax = plt.subplots(figsize=fig_dims)\n",
    "sns.histplot(\n",
    "    tweet_df,\n",
    "    x=\"TweetPlace\",hue=\"TweetPlace\", \n",
    "    multiple=\"stack\",\n",
    "    ax=ax,\n",
    ")\n",
    "plt.xticks(rotation=45)\n",
    "plt.show()"
   ]
  },
  {
   "cell_type": "code",
   "execution_count": null,
   "metadata": {},
   "outputs": [],
   "source": [
    "raw_df.tweetdate.value_counts()"
   ]
  },
  {
   "cell_type": "code",
   "execution_count": null,
   "metadata": {},
   "outputs": [],
   "source": [
    "tweet_df.sample(100)"
   ]
  },
  {
   "cell_type": "code",
   "execution_count": null,
   "metadata": {},
   "outputs": [],
   "source": [
    "tweet_df.userLocation.value_counts()"
   ]
  },
  {
   "cell_type": "code",
   "execution_count": null,
   "metadata": {},
   "outputs": [],
   "source": [
    "tweet_df.retweeted.value_counts()"
   ]
  },
  {
   "cell_type": "code",
   "execution_count": null,
   "metadata": {},
   "outputs": [],
   "source": [
    "tweet_df.tweetText.value_counts()"
   ]
  },
  {
   "cell_type": "code",
   "execution_count": null,
   "metadata": {},
   "outputs": [],
   "source": [
    "tweet_df.date.value_counts()"
   ]
  },
  {
   "cell_type": "code",
   "execution_count": null,
   "metadata": {},
   "outputs": [],
   "source": [
    "tweet_df.tweetID.value_counts()"
   ]
  }
 ],
 "metadata": {
  "interpreter": {
   "hash": "d4d1e4263499bec80672ea0156c357c1ee493ec2b1c70f0acce89fc37c4a6abe"
  },
  "kernelspec": {
   "display_name": "Python 3.9.7 ('base')",
   "language": "python",
   "name": "python3"
  },
  "language_info": {
   "codemirror_mode": {
    "name": "ipython",
    "version": 3
   },
   "file_extension": ".py",
   "mimetype": "text/x-python",
   "name": "python",
   "nbconvert_exporter": "python",
   "pygments_lexer": "ipython3",
   "version": "3.9.7"
  },
  "orig_nbformat": 4
 },
 "nbformat": 4,
 "nbformat_minor": 2
}
